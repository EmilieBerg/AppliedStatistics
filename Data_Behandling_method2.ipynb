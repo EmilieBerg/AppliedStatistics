{
 "cells": [
  {
   "cell_type": "code",
   "execution_count": 3,
   "metadata": {},
   "outputs": [],
   "source": [
    "import numpy as np\n",
    "import pandas as pd\n",
    "import matplotlib.pyplot as plt\n",
    "from sympy import *\n",
    "import math\n",
    "from scipy import stats"
   ]
  },
  {
   "cell_type": "code",
   "execution_count": 4,
   "metadata": {},
   "outputs": [],
   "source": [
    "# Importing data from csv files\n",
    "\n",
    "rail_dist = pd.read_csv('Rail_dist_in_mm.csv')\n",
    "trig_angle = pd.read_csv('angle_trig_inmeter.csv')\n",
    "vink_angle = pd.read_csv('Angle_gen.csv')\n",
    "string_laser = pd.read_csv('L_string_laser.csv') \n",
    "string_tape = pd.read_csv('L_string_tape.csv')\n",
    "dia = pd.read_csv('ball_radius.csv')\n",
    "\n",
    "a_df = pd.read_csv('acceleration_final_method_2.csv')\n",
    "\n",
    "rail_dist = rail_dist.to_numpy()\n",
    "trig_angle = trig_angle.to_numpy()\n",
    "vink_angle = vink_angle.to_numpy()\n",
    "string_laser = string_laser.to_numpy()\n",
    "string_tape = string_tape.to_numpy()\n",
    "dia = dia.to_numpy()\n",
    "\n",
    "a_df = a_df.to_numpy()"
   ]
  },
  {
   "cell_type": "code",
   "execution_count": 5,
   "metadata": {},
   "outputs": [],
   "source": [
    "def error_probagation(f, PAR,SIGMA):\n",
    "    \"GENERAL ERROR PROBAGATION\"\n",
    "    led = 0\n",
    "    each_contrib = []\n",
    "    for i in range(len(PAR)):\n",
    "        l = ((f.diff(PAR[i]) * SIGMA[i])**2)\n",
    "        each_contrib.append(l)\n",
    "        led += l\n",
    "    return sqrt(led), each_contrib"
   ]
  },
  {
   "cell_type": "code",
   "execution_count": 6,
   "metadata": {},
   "outputs": [
    {
     "name": "stdout",
     "output_type": "stream",
     "text": [
      "Rail width =  10.05 mm ± 0.02 mm\n"
     ]
    }
   ],
   "source": [
    "# Rail width\n",
    "\n",
    "mean_rail = np.mean(rail_dist)\n",
    "error_rail = np.std(rail_dist)/np.sqrt(len(rail_dist))\n",
    "\n",
    "print('Rail width = ', mean_rail, 'mm' , '±', round(error_rail, 2), 'mm')"
   ]
  },
  {
   "cell_type": "code",
   "execution_count": 7,
   "metadata": {},
   "outputs": [
    {
     "name": "stdout",
     "output_type": "stream",
     "text": [
      "0.004463392767839258 0.004063615231539522\n",
      "Angle theta: 14.912937331336302\n",
      "Error on angle theta: 0.2653079841934492\n"
     ]
    }
   ],
   "source": [
    "# Trigonometric angle\n",
    "from sympy.stats import Arcsin, density\n",
    "\n",
    "\n",
    "hyp_mean = np.mean(trig_angle[:, 0])\n",
    "kat_mean = np.mean(trig_angle[:, 1])\n",
    "hyp_error = np.std(trig_angle[:, 0])/np.sqrt(len(trig_angle[:, 0]))\n",
    "kat_error = np.std(trig_angle[:, 1])/np.sqrt(len(trig_angle[:, 1]))\n",
    "angle_t = np.arcsin(kat_mean/hyp_mean)\n",
    "print(hyp_error, kat_error)\n",
    "\n",
    "# Define symbolic variables\n",
    "a, b, da, db = symbols('a, b, sigma_a, sigma_b')\n",
    "\n",
    "# Create the expression arcsin(a/b)\n",
    "theta = asin(a/b)\n",
    "\n",
    "par = [a, b]\n",
    "sig = [da, db]\n",
    "\n",
    "sig_theta, _ = error_probagation(theta, par, sig)\n",
    "ftheta = lambdify((a, b), theta)\n",
    "fsig_theta = lambdify((a, b, da, db), sig_theta)\n",
    "\n",
    "print(\"Angle theta:\", ftheta(kat_mean, hyp_mean)*(180/np.pi))\n",
    "print(\"Error on angle theta:\", fsig_theta(kat_mean, hyp_mean, kat_error, hyp_error)*(180/np.pi))"
   ]
  },
  {
   "cell_type": "code",
   "execution_count": 8,
   "metadata": {},
   "outputs": [
    {
     "name": "stdout",
     "output_type": "stream",
     "text": [
      "0.12421629321469846 0.08100925873009844\n",
      "Angle =  13.711190053285971 ± 0.07\n",
      "Chi2 =  0.17753863152382643\n",
      "P-value =  0.6734970906060582\n"
     ]
    }
   ],
   "source": [
    "# Vinkelmåler angle\n",
    "\n",
    "vink_norm = (vink_angle[:, :2])\n",
    "vink_rev = (vink_angle[:, 3:5])\n",
    "\n",
    "mean_norm = np.mean(vink_norm, axis=1)[:, np.newaxis]\n",
    "mean_rev = np.mean(vink_rev, axis=1)[:, np.newaxis]\n",
    "\n",
    "\n",
    "error_norm = np.std(mean_norm)/np.sqrt(len(mean_norm)) \n",
    "error_rev = np.std(mean_rev)/np.sqrt(len(mean_rev))\n",
    "MEAN_norm = np.mean(mean_norm)  \n",
    "MEAN_rev = np.mean(mean_rev) \n",
    "\n",
    "print(error_norm, error_rev)\n",
    "array_MEAN = np.hstack((MEAN_norm, MEAN_rev))\n",
    "\n",
    "\n",
    "# Putting the rev and normal ways of measuring together\n",
    "MEAN_ang = (MEAN_norm/error_norm**2 + MEAN_rev/error_rev**2)/(1/error_norm**2 + 1/error_rev**2)\n",
    "error_ang = np.sqrt(1/(1/error_norm**2 + 1/error_rev**2))\n",
    "chi2_ang = np.sum((array_MEAN - MEAN_ang)**2/error_ang**2)\n",
    "N_freedom = len(array_MEAN) - 1\n",
    "chi2_prob = 1 - stats.chi2.cdf(chi2_ang, N_freedom) \n",
    "\n",
    "\n",
    "print('Angle = ', MEAN_ang, '±', round(error_ang, 2))\n",
    "print('Chi2 = ', chi2_ang)\n",
    "print('P-value = ', chi2_prob)"
   ]
  },
  {
   "cell_type": "code",
   "execution_count": 9,
   "metadata": {},
   "outputs": [
    {
     "name": "stdout",
     "output_type": "stream",
     "text": [
      "The mean angle of the two different ways of measurement:  13.784972481448756 ± 0.07\n",
      "The chi2 value for the two different ways of measurement:  19.257862147578617\n",
      "The p-value for the two different ways of measurement:  1.141991255637631e-05\n"
     ]
    }
   ],
   "source": [
    "# Chi2 test for the two WAYS (vinkelmåler and trig.) of measuring the angle together\n",
    "\n",
    "angle_ARRAY = np.hstack((MEAN_ang, ftheta(kat_mean, hyp_mean)*(180/np.pi)))  # [mean angle of vinkelmåler, mean angle of trigonometric angle]\n",
    "error_ang_array = np.hstack((error_ang, fsig_theta(kat_mean, hyp_mean, kat_error, hyp_error)*(180/np.pi))) # [error on mean angle of vinkelmåler, error on mean angle of trigonometric angle]\n",
    "\n",
    "WMEAN_ANGTOT = np.sum(angle_ARRAY/error_ang_array**2)/np.sum(1/error_ang_array**2)  # Weighted mean angle\n",
    "WERROR_ANGTOT = np.sqrt(1/(np.sum(1/error_ang_array**2)))  # Weighted error on mean angle\n",
    "\n",
    "chi2_angtot = np.sum((angle_ARRAY - WMEAN_ANGTOT)**2/(error_ang_array**2))\n",
    "N_freedom = len(angle_ARRAY) - 1\n",
    "chi2_prob = 1 - stats.chi2.cdf(chi2_angtot, N_freedom)\n",
    "\n",
    "print(\"The mean angle of the two different ways of measurement: \", WMEAN_ANGTOT, \"±\", round(WERROR_ANGTOT, 2))\n",
    "print(\"The chi2 value for the two different ways of measurement: \", chi2_angtot)\n",
    "print(\"The p-value for the two different ways of measurement: \", chi2_prob)"
   ]
  },
  {
   "cell_type": "code",
   "execution_count": 10,
   "metadata": {},
   "outputs": [
    {
     "name": "stdout",
     "output_type": "stream",
     "text": [
      "Mean length of string initial: 1.827475 m\n",
      "Mean length of string final: 1.824375 m\n",
      "Error on length of string initial: 0.002557922741210145 m\n",
      "Error on length of string final: 0.0009416574483324621 m\n",
      "\n",
      "\n",
      "Mean length of string with lod: 1.8420250000000002 m\n",
      "Error on length of string with lod: 0.002557739480478834 m\n"
     ]
    }
   ],
   "source": [
    "# String length\n",
    "\n",
    "mid_lod = string_tape[:, -1]/2\n",
    "length_tape_in = string_tape[:, 0]\n",
    "length_tape_fin = string_tape[:, 1]\n",
    "\n",
    "\n",
    "m_lti = np.mean(length_tape_in)/100   # initial length of string tape\n",
    "m_ltf = np.mean(length_tape_fin)/100  # final length of string tape\n",
    "er_lti = np.std(length_tape_in)/np.sqrt(len(length_tape_in))/100 \n",
    "er_ltf = np.std(length_tape_fin)/np.sqrt(len(length_tape_fin))/100\n",
    "\n",
    "\n",
    "length_with_lod = length_tape_in + mid_lod\n",
    "mean_length = np.mean(length_with_lod)/100\n",
    "error_length = np.std(length_with_lod)/np.sqrt(len(length_with_lod))/100\n",
    "\n",
    "\n",
    "print(\"Mean length of string initial:\", m_lti, \"m\")\n",
    "print(\"Mean length of string final:\", m_ltf, \"m\")\n",
    "print(\"Error on length of string initial:\", er_lti, \"m\")\n",
    "print(\"Error on length of string final:\", er_ltf, \"m\")\n",
    "print(\"\\n\")\n",
    "\n",
    "print(\"Mean length of string with lod:\", mean_length, \"m\")\n",
    "print(\"Error on length of string with lod:\", error_length, \"m\")"
   ]
  },
  {
   "cell_type": "code",
   "execution_count": 11,
   "metadata": {},
   "outputs": [
    {
     "name": "stdout",
     "output_type": "stream",
     "text": [
      "Mean length of string initial without lod: 1.82425 m\n",
      "Error on length of string initial without lod: 0.00021650635094608582 m\n",
      "Mean length of string final without lod: 1.824 m\n",
      "Error on length of string final without lod: 0.0011726039399558468 m\n",
      "\n",
      "\n",
      "Mean length of string initial with laser: 1.8388 m\n",
      "Error on length of string initial with laser: 0.0002 m\n"
     ]
    }
   ],
   "source": [
    "# String length with laser\n",
    "\n",
    "length_laser_in = string_laser[:, 0]\n",
    "length_laser_fin = string_laser[:, 1]\n",
    "\n",
    "# Mean and error on length of string initial with laser (Without lod)\n",
    "m_lli = np.mean(length_laser_in)\n",
    "e_lli = np.std(length_laser_in)/np.sqrt(len(length_laser_in))\n",
    "# Mean and error on length of string final with laser (Without lod)\n",
    "m_llf = np.mean(length_laser_fin)\n",
    "e_llf = np.std(length_laser_fin)/np.sqrt(len(length_laser_fin))\n",
    "\n",
    "# Mean and error on length of string initial with laser (With lod)\n",
    "length_with_lod_laser = length_laser_in + mid_lod/100\n",
    "mean_length_laser = np.mean(length_with_lod_laser)\n",
    "error_length_laser = np.std(length_with_lod_laser)/np.sqrt(len(length_with_lod_laser))\n",
    "\n",
    "# Without lod\n",
    "print(\"Mean length of string initial without lod:\", m_lli, \"m\")\n",
    "print(\"Error on length of string initial without lod:\", e_lli, \"m\")\n",
    "print(\"Mean length of string final without lod:\", m_llf, \"m\")\n",
    "print(\"Error on length of string final without lod:\", e_llf, \"m\")\n",
    "print(\"\\n\")\n",
    "\n",
    "# With lod\n",
    "print(\"Mean length of string initial with laser:\", mean_length_laser, \"m\")\n",
    "print(\"Error on length of string initial with laser:\", round(error_length_laser, 4), \"m\")"
   ]
  },
  {
   "cell_type": "code",
   "execution_count": 12,
   "metadata": {},
   "outputs": [
    {
     "name": "stdout",
     "output_type": "stream",
     "text": [
      "Weighted mean length =  1.8388240061162078 m\n",
      "Chi2 =  1.5779816513763647\n",
      "P-value =  0.20905166000727826\n"
     ]
    }
   ],
   "source": [
    "# Chi2 test of length of string\n",
    "\n",
    "length_array = np.hstack((mean_length_laser, mean_length))\n",
    "error_length_array =  np.hstack((error_length_laser, error_length))\n",
    "weightedmean_length_tot = np.sum(length_array/error_length_array**2)/np.sum(1/error_length_array**2)\n",
    "\n",
    "print('Weighted mean length = ', weightedmean_length_tot, 'm')\n",
    "chi2_length = np.sum((length_array - weightedmean_length_tot)**2/(error_length_array**2))\n",
    "N_freedom = len(length_array) - 1\n",
    "chi2_prob = 1 - stats.chi2.cdf(chi2_length, N_freedom)\n",
    "print('Chi2 = ', chi2_length)\n",
    "print('P-value = ', chi2_prob)"
   ]
  },
  {
   "cell_type": "code",
   "execution_count": 13,
   "metadata": {},
   "outputs": [
    {
     "name": "stdout",
     "output_type": "stream",
     "text": [
      "Mean ball diameter: 14.875 mm\n",
      "Error on ball diameter: 0.02 mm\n"
     ]
    }
   ],
   "source": [
    "ball_dia = dia[:, 0]\n",
    "ball_dia_mean = np.mean(ball_dia)\n",
    "ball_dia_error = np.std(ball_dia)/np.sqrt(len(ball_dia))\n",
    "\n",
    "print(\"Mean ball diameter:\", ball_dia_mean, \"mm\")\n",
    "print(\"Error on ball diameter:\", round(ball_dia_error, 2), \"mm\")"
   ]
  },
  {
   "cell_type": "code",
   "execution_count": 14,
   "metadata": {},
   "outputs": [
    {
     "data": {
      "text/latex": [
       "$\\displaystyle 78.9568352087149 \\sqrt{\\frac{L^{2} \\sigma_{T}^{2}}{T^{6}} + \\frac{0.25 \\sigma_{L}^{2}}{T^{4}}}$"
      ],
      "text/plain": [
       "78.9568352087149*sqrt(L**2*sigma_T**2/T**6 + 0.25*sigma_L**2/T**4)"
      ]
     },
     "metadata": {},
     "output_type": "display_data"
    }
   ],
   "source": [
    "# Calculating the gravitational acceleration PENDELUM\n",
    "\n",
    "# Define symbolic variables\n",
    "L, T, dL, dT = symbols('L, T, sigma_L, sigma_T')\n",
    "\n",
    "# Create the expression arcsin(a/b)\n",
    "g_pendul = L * (2*np.pi/T)**2\n",
    "\n",
    "par_pendul = [L, T]\n",
    "sig_pendul = [dL, dT]\n",
    "\n",
    "sig_g_pendul, _ = error_probagation(g_pendul, par_pendul, sig_pendul)\n",
    "f_g_pendul = lambdify((L, T), g_pendul)\n",
    "fsig_g_pendul = lambdify((L, T, dL, dT), sig_g_pendul)\n",
    "\n",
    "display(sig_g_pendul)"
   ]
  },
  {
   "cell_type": "code",
   "execution_count": 15,
   "metadata": {},
   "outputs": [
    {
     "name": "stdout",
     "output_type": "stream",
     "text": [
      "Acceleration data :\n",
      " [['Emilie:' 1.473 0.00016 4.787 0.091 nan 1.573 0.005 2.391 0.303]\n",
      " ['Nete:' 1.46743 0.00532 3.3 0.197 nan 1.56911 0.00541 1.7 0.418]\n",
      " ['Emma' 1.475 0.005 3.299 0.192 nan 1.577 0.005 2.973 0.226]\n",
      " ['Ervin' 1.4663 0.0066 2.8899 0.2358 nan 1.568 0.0061 0.9954 0.6079]]\n",
      "\n",
      "\n",
      "Weighted mean of acceleration normal: 1.4729930896711527 m/s^2 ± 0.00015979908211942537 m/s^2\n",
      "Chi2 value of acceleration normal: 0.8233543148383402\n",
      "P-value of acceleration normal: 0.8438732190878253\n",
      "\n",
      "\n",
      "Weighted mean of acceleration reverse: 1.5722393602290579 m/s^2 ± 0.0026627274402023756 m/s^2\n",
      "Chi2 value of acceleration reverse: 1.747276503718946\n",
      "P-value of acceleration reverse: 0.6264747956527552\n",
      "\n",
      "\n",
      "Weighted mean of acceleration in TOTAL: 1.4733492520024114 m/s^2 ± 0.00015951209114776558 m/s^2\n",
      "Chi2 value of acceleration: 1384.2470940975775\n",
      "P-value of acceleration: 0.0\n"
     ]
    }
   ],
   "source": [
    "# Writing out the acceleration data\n",
    "\n",
    "print(\"Acceleration data :\\n\", a_df)\n",
    "\n",
    "acceleration_normal = a_df[:, 1]\n",
    "acceleration_reverse = a_df[:, 6]\n",
    "\n",
    "error_normal = a_df[:, 2]\n",
    "error_reverse = a_df[:, 7]\n",
    "\n",
    "# Weighted Mean and weighted error on acceleration normal\n",
    "wm_acc_normal = np.sum(acceleration_normal/(error_normal)**2)/np.sum(1/error_normal**2)\n",
    "we_acc_normal = np.sqrt(1/np.sum(1/error_normal**2))\n",
    "\n",
    "chi2_acc_normal = np.sum((acceleration_normal - wm_acc_normal)**2)/np.sum(error_normal**2)\n",
    "acc_Ndof = len(acceleration_normal) - 1\n",
    "prob_acc_normal = 1 - stats.chi2.cdf(chi2_acc_normal, acc_Ndof)\n",
    "\n",
    "\n",
    "# Weighted Mean and weighted error on acceleration reverse\n",
    "wm_acc_reverse = np.sum(acceleration_reverse/(error_reverse)**2)/np.sum(1/error_reverse**2)\n",
    "we_acc_reverse = np.sqrt(1/np.sum(1/error_reverse**2))\n",
    "\n",
    "chi2_acc_reverse = np.sum((acceleration_reverse - wm_acc_reverse)**2/(error_reverse**2))\n",
    "acc_Ndof = len(acceleration_reverse) - 1\n",
    "prob_acc_reverse = 1 - stats.chi2.cdf(chi2_acc_reverse, acc_Ndof)\n",
    "\n",
    "# Chi2 test of acceleration and total mean of acceleration\n",
    "acc = np.hstack((wm_acc_normal, wm_acc_reverse))\n",
    "err_acc = np.hstack((we_acc_normal, we_acc_reverse))\n",
    "\n",
    "\n",
    "wm_acc = np.sum(acc/err_acc**2)/np.sum(1/err_acc**2)  # Weighted mean of acceleration in TOTAL\n",
    "wm_err_acc = np.sqrt(1/np.sum(1/err_acc**2))  # Weighted error on weighted mean of acceleration in TOTAL\n",
    "\n",
    "# Chi2 test of acceleration\n",
    "chi2_acc = np.sum((acc - wm_acc)**2/err_acc**2)\n",
    "acc_Ndof = len(acc) - 1\n",
    "prob_acc = 1 - stats.chi2.cdf(chi2_acc, acc_Ndof)\n",
    "\n",
    "print(\"\\n\")\n",
    "print(\"Weighted mean of acceleration normal:\", wm_acc_normal, \"m/s^2 ±\",  we_acc_normal, \"m/s^2\")\n",
    "print(\"Chi2 value of acceleration normal:\", chi2_acc_normal)\n",
    "print(\"P-value of acceleration normal:\", prob_acc_normal)\n",
    "print(\"\\n\")\n",
    "\n",
    "print(\"Weighted mean of acceleration reverse:\", wm_acc_reverse, \"m/s^2 ±\", we_acc_reverse, \"m/s^2\")\n",
    "print(\"Chi2 value of acceleration reverse:\", chi2_acc_reverse)\n",
    "print(\"P-value of acceleration reverse:\", prob_acc_reverse)\n",
    "print(\"\\n\")\n",
    "\n",
    "print(\"Weighted mean of acceleration in TOTAL:\", wm_acc, \"m/s^2 ±\", wm_err_acc, \"m/s^2\")\n",
    "print(\"Chi2 value of acceleration:\", chi2_acc)\n",
    "print(\"P-value of acceleration:\", prob_acc)"
   ]
  },
  {
   "cell_type": "code",
   "execution_count": 16,
   "metadata": {},
   "outputs": [
    {
     "data": {
      "text/latex": [
       "$\\displaystyle \\sqrt{\\sigma_{\\left\\|{a}\\right\\|}^{2} \\left(- \\frac{\\left(a_{norm} - a_{rev}\\right) \\sin{\\left(\\theta \\right)}}{\\left(a_{norm} + a_{rev}\\right)^{2} \\cos{\\left(\\theta \\right)}} + \\frac{\\sin{\\left(\\theta \\right)}}{\\left(a_{norm} + a_{rev}\\right) \\cos{\\left(\\theta \\right)}}\\right)^{2} + \\sigma_{arev}^{2} \\left(- \\frac{\\left(a_{norm} - a_{rev}\\right) \\sin{\\left(\\theta \\right)}}{\\left(a_{norm} + a_{rev}\\right)^{2} \\cos{\\left(\\theta \\right)}} - \\frac{\\sin{\\left(\\theta \\right)}}{\\left(a_{norm} + a_{rev}\\right) \\cos{\\left(\\theta \\right)}}\\right)^{2} + \\sigma_{\\theta}^{2} \\left(\\frac{\\left(a_{norm} - a_{rev}\\right) \\sin^{2}{\\left(\\theta \\right)}}{\\left(a_{norm} + a_{rev}\\right) \\cos^{2}{\\left(\\theta \\right)}} + \\frac{a_{norm} - a_{rev}}{a_{norm} + a_{rev}}\\right)^{2}}$"
      ],
      "text/plain": [
       "sqrt(sigma_anorm**2*(-(a_norm - a_rev)*sin(theta)/((a_norm + a_rev)**2*cos(theta)) + sin(theta)/((a_norm + a_rev)*cos(theta)))**2 + sigma_arev**2*(-(a_norm - a_rev)*sin(theta)/((a_norm + a_rev)**2*cos(theta)) - sin(theta)/((a_norm + a_rev)*cos(theta)))**2 + sigma_theta**2*((a_norm - a_rev)*sin(theta)**2/((a_norm + a_rev)*cos(theta)**2) + (a_norm - a_rev)/(a_norm + a_rev))**2)"
      ]
     },
     "metadata": {},
     "output_type": "display_data"
    },
    {
     "data": {
      "text/latex": [
       "$\\displaystyle \\frac{\\left(a_{norm} - a_{rev}\\right) \\sin{\\left(\\theta \\right)}}{\\left(a_{norm} + a_{rev}\\right) \\cos{\\left(\\theta \\right)}}$"
      ],
      "text/plain": [
       "(a_norm - a_rev)*sin(theta)/((a_norm + a_rev)*cos(theta))"
      ]
     },
     "metadata": {},
     "output_type": "display_data"
    },
    {
     "name": "stdout",
     "output_type": "stream",
     "text": [
      "∆theta =  -0.00795150098405839\n",
      "Error on ∆theta =  0.00021080952353009846\n"
     ]
    }
   ],
   "source": [
    "# Calculating ∆theta and error on ∆theta\n",
    "\n",
    "a_norm, a_rev = symbols('a_norm, a_rev')\n",
    "theta = symbols('theta')\n",
    "da_norm, da_rev = symbols('sigma_anorm, sigma_arev')\n",
    "dtheta = symbols('sigma_theta')\n",
    "\n",
    "\n",
    "delta_theta  = (a_norm - a_rev)*sin(theta) / ((a_norm + a_rev)*cos(theta))\n",
    "\n",
    "sig_delta_theta, _ = error_probagation(delta_theta, [a_norm, a_rev, theta], [da_norm, da_rev, dtheta])\n",
    "f_delta_theta = lambdify((a_norm, a_rev, theta), delta_theta)\n",
    "fsig_delta_theta = lambdify((a_norm, a_rev, theta, da_norm, da_rev, dtheta), sig_delta_theta)\n",
    "\n",
    "display(sig_delta_theta)\n",
    "display(delta_theta)\n",
    "\n",
    "MEAN_ang = MEAN_ang*np.pi/180\n",
    "error_ang = error_ang*np.pi/180\n",
    "\n",
    "delta_theta_value = f_delta_theta(wm_acc_normal, wm_acc_reverse, MEAN_ang)\n",
    "error_delta_theta = fsig_delta_theta(wm_acc_normal, wm_acc_reverse, MEAN_ang, we_acc_normal, we_acc_reverse, error_ang)\n",
    "\n",
    "print(\"∆theta = \", delta_theta_value)\n",
    "print(\"Error on ∆theta = \", error_delta_theta)"
   ]
  },
  {
   "cell_type": "code",
   "execution_count": 17,
   "metadata": {},
   "outputs": [
    {
     "data": {
      "text/latex": [
       "$\\displaystyle \\frac{a \\left(\\frac{0.4 D_{ball}^{2}}{D_{ball}^{2} - d_{rail}^{2}} + 1\\right)}{\\sin{\\left(del_{\\theta} + \\theta_{ball} \\right)}}$"
      ],
      "text/plain": [
       "a*(0.4*D_ball**2/(D_ball**2 - d_rail**2) + 1)/sin(del_theta + theta_ball)"
      ]
     },
     "metadata": {},
     "output_type": "display_data"
    },
    {
     "data": {
      "text/latex": [
       "$\\displaystyle \\sqrt{\\frac{0.64 D_{ball}^{4} a^{2} d_{rail}^{2} \\sigma_{d rail}^{2}}{\\left(D_{ball}^{2} - d_{rail}^{2}\\right)^{4} \\sin^{2}{\\left(del_{\\theta} + \\theta_{ball} \\right)}} + \\frac{0.64 a^{2} \\sigma_{D ball}^{2} \\left(- \\frac{D_{ball}^{3}}{\\left(D_{ball}^{2} - d_{rail}^{2}\\right)^{2}} + \\frac{D_{ball}}{D_{ball}^{2} - d_{rail}^{2}}\\right)^{2}}{\\sin^{2}{\\left(del_{\\theta} + \\theta_{ball} \\right)}} + \\frac{a^{2} \\sigma_{del \\theta}^{2} \\left(\\frac{0.4 D_{ball}^{2}}{D_{ball}^{2} - d_{rail}^{2}} + 1\\right)^{2} \\cos^{2}{\\left(del_{\\theta} + \\theta_{ball} \\right)}}{\\sin^{4}{\\left(del_{\\theta} + \\theta_{ball} \\right)}} + \\frac{a^{2} \\sigma_{\\theta ball}^{2} \\left(\\frac{0.4 D_{ball}^{2}}{D_{ball}^{2} - d_{rail}^{2}} + 1\\right)^{2} \\cos^{2}{\\left(del_{\\theta} + \\theta_{ball} \\right)}}{\\sin^{4}{\\left(del_{\\theta} + \\theta_{ball} \\right)}} + \\frac{\\sigma_{a}^{2} \\left(\\frac{0.4 D_{ball}^{2}}{D_{ball}^{2} - d_{rail}^{2}} + 1\\right)^{2}}{\\sin^{2}{\\left(del_{\\theta} + \\theta_{ball} \\right)}}}$"
      ],
      "text/plain": [
       "sqrt(0.64*D_ball**4*a**2*d_rail**2*sigma_d_rail**2/((D_ball**2 - d_rail**2)**4*sin(del_theta + theta_ball)**2) + 0.64*a**2*sigma_D_ball**2*(-D_ball**3/(D_ball**2 - d_rail**2)**2 + D_ball/(D_ball**2 - d_rail**2))**2/sin(del_theta + theta_ball)**2 + a**2*sigma_del_theta**2*(0.4*D_ball**2/(D_ball**2 - d_rail**2) + 1)**2*cos(del_theta + theta_ball)**2/sin(del_theta + theta_ball)**4 + a**2*sigma_theta_ball**2*(0.4*D_ball**2/(D_ball**2 - d_rail**2) + 1)**2*cos(del_theta + theta_ball)**2/sin(del_theta + theta_ball)**4 + sigma_a**2*(0.4*D_ball**2/(D_ball**2 - d_rail**2) + 1)**2/sin(del_theta + theta_ball)**2)"
      ]
     },
     "metadata": {},
     "output_type": "display_data"
    },
    {
     "name": "stdout",
     "output_type": "stream",
     "text": [
      "Gravitational acceleration normal: 11.151655646421617 m/s^2 ± 0.0613828595645165 m/s^2\n",
      "Contribution from each variable to the error on g: [1.4636115991638779e-06, 0.0031429993685240278, 9.958914290839135e-05, 0.000133591737933344, 0.00039021158735222774]\n"
     ]
    }
   ],
   "source": [
    "# Calculating the gravitational acceleration BALL ON INCLINE\n",
    "\n",
    "a, theta_ball, del_theta, D_ball, d_rail, = symbols('a, theta_ball, del_theta, D_ball, d_rail')\n",
    "da, dtheta_ball, d_deltheta, dDball, dd_rail = symbols('sigma_a, sigma_theta_ball, sigma_del_theta, sigma_D_ball, sigma_d_rail')\n",
    "\n",
    "g_ball = a/(sin(theta_ball + del_theta)) * (1 + 2/5 * (D_ball**2/(D_ball**2 - d_rail**2)))\n",
    "\n",
    "par_ball = [a, theta_ball, del_theta, D_ball, d_rail]\n",
    "sig_ball = [da, dtheta_ball, d_deltheta, dDball, dd_rail]\n",
    "\n",
    "sig_g_ball, contrib_g_ball = error_probagation(g_ball, par_ball, sig_ball)\n",
    "f_g_ball = lambdify((a, theta_ball, del_theta, D_ball, d_rail), g_ball) \n",
    "fsig_g_ball = lambdify((a, theta_ball, del_theta, D_ball, d_rail, da, dtheta_ball, d_deltheta, dDball, dd_rail), sig_g_ball)\n",
    "f_contrib_g_ball = lambdify((a, theta_ball, del_theta, D_ball, d_rail, da, dtheta_ball, d_deltheta, dDball, dd_rail), contrib_g_ball)\n",
    "\n",
    "display(g_ball) \n",
    "display(sig_g_ball)\n",
    "\n",
    "# Converting to radians\n",
    "#MEAN_ang = MEAN_ang*np.pi/180\n",
    "#error_ang = error_ang*np.pi/180\n",
    "#delta_theta_value = delta_theta_value*np.pi/180\n",
    "#error_delta_theta = error_delta_theta*np.pi/180\n",
    "\n",
    "ball_dia_mean = ball_dia_mean/1000\n",
    "ball_dia_error = ball_dia_error/1000\n",
    "mean_rail = mean_rail/1000\n",
    "error_rail = error_rail/1000\n",
    "\n",
    "\n",
    "# Calculating the gravitational acceleration BALL ON INCLINE\n",
    "g_value  = f_g_ball(wm_acc_normal, MEAN_ang, delta_theta_value, ball_dia_mean, mean_rail)\n",
    "\n",
    "error_g = fsig_g_ball(wm_acc_normal, MEAN_ang, delta_theta_value, ball_dia_mean, mean_rail, we_acc_normal, \n",
    "                             error_ang, error_delta_theta, ball_dia_error, error_rail)\n",
    "\n",
    "contribution_gball = f_contrib_g_ball(wm_acc_normal, MEAN_ang, delta_theta_value, ball_dia_mean, mean_rail, we_acc_normal, \n",
    "                             error_ang, error_delta_theta, ball_dia_error, error_rail)\n",
    "\n",
    "print(\"Gravitational acceleration normal:\", g_value, \"m/s^2 ±\", error_g, \"m/s^2\")\n",
    "print(\"Contribution from each variable to the error on g:\", contribution_gball)"
   ]
  },
  {
   "cell_type": "code",
   "execution_count": 18,
   "metadata": {},
   "outputs": [
    {
     "data": {
      "text/plain": [
       "21.69425888381721"
      ]
     },
     "execution_count": 18,
     "metadata": {},
     "output_type": "execute_result"
    }
   ],
   "source": [
    "(g_value - 9.82)/error_g"
   ]
  },
  {
   "cell_type": "code",
   "execution_count": null,
   "metadata": {},
   "outputs": [],
   "source": []
  }
 ],
 "metadata": {
  "kernelspec": {
   "display_name": "base",
   "language": "python",
   "name": "python3"
  },
  "language_info": {
   "codemirror_mode": {
    "name": "ipython",
    "version": 3
   },
   "file_extension": ".py",
   "mimetype": "text/x-python",
   "name": "python",
   "nbconvert_exporter": "python",
   "pygments_lexer": "ipython3",
   "version": "3.11.5"
  }
 },
 "nbformat": 4,
 "nbformat_minor": 2
}
