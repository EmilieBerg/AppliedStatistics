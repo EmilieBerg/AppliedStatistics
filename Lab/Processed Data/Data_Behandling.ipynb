{
 "cells": [
  {
   "cell_type": "code",
   "execution_count": 2,
   "metadata": {},
   "outputs": [],
   "source": [
    "import numpy as np\n",
    "import pandas as pd\n",
    "import matplotlib.pyplot as plt\n",
    "from sympy import *\n",
    "import math\n",
    "from scipy import stats"
   ]
  },
  {
   "cell_type": "code",
   "execution_count": 3,
   "metadata": {},
   "outputs": [],
   "source": [
    "# Importing data from csv files\n",
    "\n",
    "rail_dist = pd.read_csv('Rail_dist_in_mm.csv')\n",
    "trig_angle = pd.read_csv('angle_trig_inmeter.csv')\n",
    "vink_angle = pd.read_csv('Angle_gen.csv')\n",
    "string_laser = pd.read_csv('L_string_laser.csv') \n",
    "string_tape = pd.read_csv('L_string_tape.csv')\n",
    "dia = pd.read_csv('ball_radius.csv')\n",
    "\n",
    "rail_dist = rail_dist.to_numpy()\n",
    "trig_angle = trig_angle.to_numpy()\n",
    "vink_angle = vink_angle.to_numpy()\n",
    "string_laser = string_laser.to_numpy()\n",
    "string_tape = string_tape.to_numpy()\n",
    "dia = dia.to_numpy()"
   ]
  },
  {
   "cell_type": "code",
   "execution_count": 4,
   "metadata": {},
   "outputs": [],
   "source": [
    "def error_probagation(f, PAR,SIGMA):\n",
    "    \"GENERAL ERROR PROBAGATION\"\n",
    "    led = 0\n",
    "    for i in range(len(PAR)):\n",
    "        led += ((f.diff(PAR[i]) * SIGMA[i])**2)\n",
    "    return sqrt(led)"
   ]
  },
  {
   "cell_type": "code",
   "execution_count": 5,
   "metadata": {},
   "outputs": [
    {
     "name": "stdout",
     "output_type": "stream",
     "text": [
      "Rail width =  10.05 mm ± 0.02 mm\n"
     ]
    }
   ],
   "source": [
    "# Rail width\n",
    "\n",
    "mean_rail = np.mean(rail_dist)\n",
    "error_rail = np.std(rail_dist)/np.sqrt(len(rail_dist))\n",
    "\n",
    "print('Rail width = ', mean_rail, 'mm' , '±', round(error_rail, 2), 'mm')"
   ]
  },
  {
   "cell_type": "code",
   "execution_count": 6,
   "metadata": {},
   "outputs": [
    {
     "name": "stdout",
     "output_type": "stream",
     "text": [
      "Angle theta: 14.912937331336302\n",
      "Error on angle theta: 0.2653079841934492\n"
     ]
    }
   ],
   "source": [
    "# Trigonometric angle\n",
    "from sympy.stats import Arcsin, density\n",
    "\n",
    "\n",
    "hyp_mean = np.mean(trig_angle[:, 0])\n",
    "kat_mean = np.mean(trig_angle[:, 1])\n",
    "hyp_error = np.std(trig_angle[:, 0])/np.sqrt(len(trig_angle[:, 0]))\n",
    "kat_error = np.std(trig_angle[:, 1])/np.sqrt(len(trig_angle[:, 1]))\n",
    "angle_t = np.arcsin(kat_mean/hyp_mean)\n",
    "\n",
    "# Define symbolic variables\n",
    "a, b, da, db = symbols('a, b, sigma_a, sigma_b')\n",
    "\n",
    "# Create the expression arcsin(a/b)\n",
    "theta = asin(a/b)\n",
    "\n",
    "par = [a, b]\n",
    "sig = [da, db]\n",
    "\n",
    "sig_theta = error_probagation(theta, par, sig)\n",
    "ftheta = lambdify((a, b), theta)\n",
    "fsig_theta = lambdify((a, b, da, db), sig_theta)\n",
    "\n",
    "print(\"Angle theta:\", ftheta(kat_mean, hyp_mean)*(180/np.pi))\n",
    "print(\"Error on angle theta:\", fsig_theta(kat_mean, hyp_mean, kat_error, hyp_error)*(180/np.pi))"
   ]
  },
  {
   "cell_type": "code",
   "execution_count": 7,
   "metadata": {},
   "outputs": [
    {
     "name": "stdout",
     "output_type": "stream",
     "text": [
      "Angle =  13.711190053285971 ± 0.07\n",
      "Chi2 =  0.17753863152382643\n",
      "P-value =  0.6734970906060582\n"
     ]
    }
   ],
   "source": [
    "# Vinkelmåler angle\n",
    "\n",
    "vink_norm = (vink_angle[:, :2])\n",
    "vink_rev = (vink_angle[:, 3:5])\n",
    "\n",
    "mean_norm = np.mean(vink_norm, axis=1)[:, np.newaxis]\n",
    "mean_rev = np.mean(vink_rev, axis=1)[:, np.newaxis]\n",
    "\n",
    "error_norm = np.std(mean_norm)/np.sqrt(len(mean_norm)) \n",
    "error_rev = np.std(mean_rev)/np.sqrt(len(mean_rev))\n",
    "\n",
    "MEAN_norm = np.mean(mean_norm)  \n",
    "MEAN_rev = np.mean(mean_rev) \n",
    "\n",
    "array_MEAN = np.hstack((MEAN_norm, MEAN_rev))\n",
    "\n",
    "\n",
    "# Putting the two angle measurements together\n",
    "MEAN_ang = (MEAN_norm/error_norm**2 + MEAN_rev/error_rev**2)/(1/error_norm**2 + 1/error_rev**2)\n",
    "error_ang = np.sqrt(1/(1/error_norm**2 + 1/error_rev**2))\n",
    "chi2_ang = np.sum((array_MEAN - MEAN_ang)**2/error_ang**2)\n",
    "N_freedom = len(array_MEAN) - 1\n",
    "chi2_prob = 1 - stats.chi2.cdf(chi2_ang, N_freedom) \n",
    "\n",
    "\n",
    "print('Angle = ', MEAN_ang, '±', round(error_ang, 2))\n",
    "print('Chi2 = ', chi2_ang)\n",
    "print('P-value = ', chi2_prob)"
   ]
  },
  {
   "cell_type": "code",
   "execution_count": 8,
   "metadata": {},
   "outputs": [
    {
     "name": "stdout",
     "output_type": "stream",
     "text": [
      "Mean length of string initial: 1.827475 m\n",
      "Mean length of string final: 1.824375 m\n",
      "Error on length of string initial: 0.002557922741210145 m\n",
      "Error on length of string final: 0.0009416574483324621 m\n",
      "\n",
      "\n",
      "Mean length of string with lod: 1.8420250000000002 m\n",
      "Error on length of string with lod: 0.002557739480478834 m \n",
      "\n",
      "Weighted mean =  1.8247449789695056 +- 0.000883680141306715\n",
      "Chi2 =  1.2934595162985287\n",
      "P-value =  0.2554113834001378\n"
     ]
    }
   ],
   "source": [
    "# String length\n",
    "\n",
    "mid_lod = string_tape[:, -1]/2\n",
    "length_tape_in = string_tape[:, 0]\n",
    "length_tape_fin = string_tape[:, 1]\n",
    "\n",
    "\n",
    "m_lti = np.mean(length_tape_in)/100   # initial length of string tape\n",
    "m_ltf = np.mean(length_tape_fin)/100  # final length of string tape\n",
    "er_lti = np.std(length_tape_in)/np.sqrt(len(length_tape_in))/100 \n",
    "er_ltf = np.std(length_tape_fin)/np.sqrt(len(length_tape_fin))/100\n",
    "\n",
    "\n",
    "length_with_lod = length_tape_in + mid_lod\n",
    "mean_length = np.mean(length_with_lod)/100\n",
    "error_length = np.std(length_with_lod)/np.sqrt(len(length_with_lod))/100\n",
    "\n",
    "\n",
    "print(\"Mean length of string initial:\", m_lti, \"m\")\n",
    "print(\"Mean length of string final:\", m_ltf, \"m\")\n",
    "print(\"Error on length of string initial:\", er_lti, \"m\")\n",
    "print(\"Error on length of string final:\", er_ltf, \"m\")\n",
    "print(\"\\n\")\n",
    "\n",
    "print(\"Mean length of string with lod:\", mean_length, \"m\")\n",
    "print(\"Error on length of string with lod:\", error_length, \"m \\n\")\n",
    "\n",
    "weighted_mean_tape = (m_lti/er_lti**2 + m_ltf/er_ltf**2) / (1/er_lti**2 + 1/er_ltf**2)\n",
    "weighted_error_tape = np.sqrt(1 / (1/er_lti**2 + 1/er_ltf**2))\n",
    "\n",
    "chi2_length_tape = (m_lti - weighted_mean_tape)**2/er_lti**2 + (m_ltf - weighted_mean_tape)**2/er_ltf**2\n",
    "N_freedom = 2 - 1\n",
    "chi2_prob_tape = 1 - stats.chi2.cdf(chi2_length_tape, N_freedom)\n",
    "print(\"Weighted mean = \", weighted_mean_tape, \"+-\", weighted_error_tape)\n",
    "print('Chi2 = ', chi2_length_tape)\n",
    "print('P-value = ', chi2_prob_tape)"
   ]
  },
  {
   "cell_type": "code",
   "execution_count": 9,
   "metadata": {},
   "outputs": [
    {
     "name": "stdout",
     "output_type": "stream",
     "text": [
      "Mean length of string initial without lod: 1.82425 m\n",
      "Error on length of string initial without lod: 0.00021650635094608582 m\n",
      "Mean length of string final without lod: 1.824 m\n",
      "Error on length of string final without lod: 0.0011726039399558468 m\n",
      "\n",
      "\n",
      "Mean length of string initial with laser: 1.8388 m\n",
      "Error on length of string initial with laser: 0.0002 m \n",
      "\n",
      "Weighted mean =  1.8242417582417583 +- 0.0002129076568131373\n",
      "Chi2 =  0.043956043955996324\n",
      "P-value =  0.8339354140886406\n"
     ]
    }
   ],
   "source": [
    "# String length with laser\n",
    "\n",
    "length_laser_in = string_laser[:, 0]\n",
    "length_laser_fin = string_laser[:, 1]\n",
    "\n",
    "# Mean and error on length of string initial with laser (Without lod)\n",
    "m_lli = np.mean(length_laser_in)\n",
    "e_lli = np.std(length_laser_in)/np.sqrt(len(length_laser_in))\n",
    "# Mean and error on length of string final with laser (Without lod)\n",
    "m_llf = np.mean(length_laser_fin)\n",
    "e_llf = np.std(length_laser_fin)/np.sqrt(len(length_laser_fin))\n",
    "\n",
    "# Mean and error on length of string initial with laser (With lod)\n",
    "length_with_lod_laser = length_laser_in + mid_lod/100\n",
    "mean_length_laser = np.mean(length_with_lod_laser)\n",
    "error_length_laser = np.std(length_with_lod_laser)/np.sqrt(len(length_with_lod_laser))\n",
    "\n",
    "# Without lod\n",
    "print(\"Mean length of string initial without lod:\", m_lli, \"m\")\n",
    "print(\"Error on length of string initial without lod:\", e_lli, \"m\")\n",
    "print(\"Mean length of string final without lod:\", m_llf, \"m\")\n",
    "print(\"Error on length of string final without lod:\", e_llf, \"m\")\n",
    "print(\"\\n\")\n",
    "\n",
    "# With lod\n",
    "print(\"Mean length of string initial with laser:\", mean_length_laser, \"m\")\n",
    "print(\"Error on length of string initial with laser:\", round(error_length_laser, 4), \"m \\n\")\n",
    "\n",
    "weighted_mean_laser = (m_lli/e_lli**2 + m_llf/e_llf**2) / (1/e_lli**2 + 1/e_llf**2)\n",
    "weighted_error_laser = np.sqrt(1 / (1/e_lli**2 + 1/e_llf**2))\n",
    "\n",
    "chi2_length_laser = (m_lli - weighted_mean_laser)**2/e_lli**2 + (m_llf - weighted_mean_laser)**2/e_llf**2\n",
    "N_freedom = 2 - 1\n",
    "chi2_prob_laser = 1 - stats.chi2.cdf(chi2_length_laser, N_freedom)\n",
    "print(\"Weighted mean = \", weighted_mean_laser, \"+-\", weighted_error_laser)\n",
    "print('Chi2 = ', chi2_length_laser)\n",
    "print('P-value = ', chi2_prob_laser)"
   ]
  },
  {
   "cell_type": "code",
   "execution_count": 10,
   "metadata": {},
   "outputs": [
    {
     "name": "stdout",
     "output_type": "stream",
     "text": [
      "weighted mean =  1.8388240061162078 +- 0.00022067462625767774\n",
      "Chi2 =  1.5779816513763647\n",
      "P-value =  0.20905166000727826\n"
     ]
    }
   ],
   "source": [
    "length_array = np.hstack((mean_length_laser, mean_length))\n",
    "error_length_array =  np.hstack((error_length_laser, error_length))\n",
    "\n",
    "Weighted_mean = np.sum(length_array/error_length_array**2) / np.sum(1/error_length_array**2)\n",
    "Weighted_error = np.sqrt(1 / np.sum(1/error_length_array**2))\n",
    "\n",
    "chi2_length = (length_array[0] - Weighted_mean)**2/error_length_array[0]**2 + (length_array[1] - Weighted_mean)**2/error_length_array[1]**2\n",
    "N_freedom = 2 - 1\n",
    "chi2_prob = 1 - stats.chi2.cdf(chi2_length, N_freedom)\n",
    "print(\"weighted mean = \", Weighted_mean, \"+-\", Weighted_error)\n",
    "print('Chi2 = ', chi2_length)\n",
    "print('P-value = ', chi2_prob)"
   ]
  },
  {
   "cell_type": "code",
   "execution_count": 11,
   "metadata": {},
   "outputs": [
    {
     "name": "stdout",
     "output_type": "stream",
     "text": [
      "Mean ball diameter: 14.875 mm\n",
      "Error on ball diameter: 0.02 mm\n"
     ]
    }
   ],
   "source": [
    "ball_dia = dia[:, 0]\n",
    "ball_dia_mean = np.mean(ball_dia)\n",
    "ball_dia_error = np.std(ball_dia)/np.sqrt(len(ball_dia))\n",
    "\n",
    "print(\"Mean ball diameter:\", ball_dia_mean, \"mm\")\n",
    "print(\"Error on ball diameter:\", round(ball_dia_error, 2), \"mm\")"
   ]
  },
  {
   "cell_type": "code",
   "execution_count": 12,
   "metadata": {},
   "outputs": [
    {
     "data": {
      "text/latex": [
       "$\\displaystyle \\sqrt{\\sigma_{\\left\\|{a}\\right\\|}^{2} \\left(- \\frac{\\left(a_{norm} - a_{rev}\\right) \\sin{\\left(\\theta \\right)} \\cos{\\left(\\theta \\right)}}{\\left(a_{norm} + a_{rev}\\right)^{2}} + \\frac{\\sin{\\left(\\theta \\right)} \\cos{\\left(\\theta \\right)}}{a_{norm} + a_{rev}}\\right)^{2} + \\sigma_{arev}^{2} \\left(- \\frac{\\left(a_{norm} - a_{rev}\\right) \\sin{\\left(\\theta \\right)} \\cos{\\left(\\theta \\right)}}{\\left(a_{norm} + a_{rev}\\right)^{2}} - \\frac{\\sin{\\left(\\theta \\right)} \\cos{\\left(\\theta \\right)}}{a_{norm} + a_{rev}}\\right)^{2} + \\sigma_{\\theta}^{2} \\left(- \\frac{\\left(a_{norm} - a_{rev}\\right) \\sin^{2}{\\left(\\theta \\right)}}{a_{norm} + a_{rev}} + \\frac{\\left(a_{norm} - a_{rev}\\right) \\cos^{2}{\\left(\\theta \\right)}}{a_{norm} + a_{rev}}\\right)^{2}}$"
      ],
      "text/plain": [
       "sqrt(sigma_anorm**2*(-(a_norm - a_rev)*sin(theta)*cos(theta)/(a_norm + a_rev)**2 + sin(theta)*cos(theta)/(a_norm + a_rev))**2 + sigma_arev**2*(-(a_norm - a_rev)*sin(theta)*cos(theta)/(a_norm + a_rev)**2 - sin(theta)*cos(theta)/(a_norm + a_rev))**2 + sigma_theta**2*(-(a_norm - a_rev)*sin(theta)**2/(a_norm + a_rev) + (a_norm - a_rev)*cos(theta)**2/(a_norm + a_rev))**2)"
      ]
     },
     "metadata": {},
     "output_type": "display_data"
    }
   ],
   "source": [
    "# Calculating ∆theta and error on ∆theta\n",
    "\n",
    "a_norm, a_rev = symbols('a_norm, a_rev')\n",
    "theta = symbols('theta')\n",
    "da_norm, da_rev = symbols('sigma_anorm, sigma_arev')\n",
    "dtheta = symbols('sigma_theta')\n",
    "\n",
    "\n",
    "\n",
    "delta_theta  = (a_norm - a_rev)*sin(theta) / (a_norm + a_rev)*cos(theta)\n",
    "\n",
    "sig_delta_theta = error_probagation(delta_theta, [a_norm, a_rev, theta], [da_norm, da_rev, dtheta])\n",
    "f_delta_theta = lambdify((a_norm, a_rev, theta), delta_theta)\n",
    "fsig_delta_theta = lambdify((a_norm, a_rev, theta, da_norm, da_rev, dtheta), sig_delta_theta)\n",
    "\n",
    "display(sig_delta_theta)"
   ]
  },
  {
   "cell_type": "code",
   "execution_count": 13,
   "metadata": {},
   "outputs": [
    {
     "data": {
      "text/latex": [
       "$\\displaystyle \\sqrt{\\frac{0.64 D_{ball}^{4} a^{2} d_{rail}^{2} \\sigma_{d rail}^{2}}{\\left(D_{ball}^{2} - d_{rail}^{2}\\right)^{4} \\sin^{2}{\\left(del_{\\theta} + \\theta_{ball} \\right)}} + \\frac{0.64 a^{2} \\sigma_{D ball}^{2} \\left(- \\frac{D_{ball}^{3}}{\\left(D_{ball}^{2} - d_{rail}^{2}\\right)^{2}} + \\frac{D_{ball}}{D_{ball}^{2} - d_{rail}^{2}}\\right)^{2}}{\\sin^{2}{\\left(del_{\\theta} + \\theta_{ball} \\right)}} + \\frac{a^{2} \\sigma_{del \\theta}^{2} \\left(\\frac{0.4 D_{ball}^{2}}{D_{ball}^{2} - d_{rail}^{2}} + 1\\right)^{2} \\cos^{2}{\\left(del_{\\theta} + \\theta_{ball} \\right)}}{\\sin^{4}{\\left(del_{\\theta} + \\theta_{ball} \\right)}} + \\frac{a^{2} \\sigma_{\\theta ball}^{2} \\left(\\frac{0.4 D_{ball}^{2}}{D_{ball}^{2} - d_{rail}^{2}} + 1\\right)^{2} \\cos^{2}{\\left(del_{\\theta} + \\theta_{ball} \\right)}}{\\sin^{4}{\\left(del_{\\theta} + \\theta_{ball} \\right)}} + \\frac{\\sigma_{a}^{2} \\left(\\frac{0.4 D_{ball}^{2}}{D_{ball}^{2} - d_{rail}^{2}} + 1\\right)^{2}}{\\sin^{2}{\\left(del_{\\theta} + \\theta_{ball} \\right)}}}$"
      ],
      "text/plain": [
       "sqrt(0.64*D_ball**4*a**2*d_rail**2*sigma_d_rail**2/((D_ball**2 - d_rail**2)**4*sin(del_theta + theta_ball)**2) + 0.64*a**2*sigma_D_ball**2*(-D_ball**3/(D_ball**2 - d_rail**2)**2 + D_ball/(D_ball**2 - d_rail**2))**2/sin(del_theta + theta_ball)**2 + a**2*sigma_del_theta**2*(0.4*D_ball**2/(D_ball**2 - d_rail**2) + 1)**2*cos(del_theta + theta_ball)**2/sin(del_theta + theta_ball)**4 + a**2*sigma_theta_ball**2*(0.4*D_ball**2/(D_ball**2 - d_rail**2) + 1)**2*cos(del_theta + theta_ball)**2/sin(del_theta + theta_ball)**4 + sigma_a**2*(0.4*D_ball**2/(D_ball**2 - d_rail**2) + 1)**2/sin(del_theta + theta_ball)**2)"
      ]
     },
     "metadata": {},
     "output_type": "display_data"
    }
   ],
   "source": [
    "# Calculating the gravitational acceleration BALL ON INCLINE\n",
    "\n",
    "a, theta_ball, del_theta, D_ball, d_rail, = symbols('a, theta_ball, del_theta, D_ball, d_rail')\n",
    "da, dtheta_ball, d_deltheta, dDball, dd_rail = symbols('sigma_a, sigma_theta_ball, sigma_del_theta, sigma_D_ball, sigma_d_rail')\n",
    "\n",
    "g_ball = a/(sin(theta_ball + del_theta)) * (1 + 2/5 * (D_ball**2/(D_ball**2 - d_rail**2)))\n",
    "\n",
    "par_ball = [a, theta_ball, del_theta, D_ball, d_rail]\n",
    "sig_ball = [da, dtheta_ball, d_deltheta, dDball, dd_rail]\n",
    "\n",
    "sig_g_ball = error_probagation(g_ball, par_ball, sig_ball)\n",
    "f_g_ball = lambdify((a, theta_ball, del_theta, D_ball, d_rail), g_ball)\n",
    "fsig_g_ball = lambdify((a, theta_ball, del_theta, D_ball, d_rail, da, dtheta_ball, d_deltheta, dDball, dd_rail), sig_g_ball)\n",
    "\n",
    "display(sig_g_ball)"
   ]
  },
  {
   "cell_type": "code",
   "execution_count": 14,
   "metadata": {},
   "outputs": [
    {
     "name": "stdout",
     "output_type": "stream",
     "text": [
      "weighted mean =  2.7207692307692306 +- 0.0005547001962252291\n",
      "Chi2 =  3.0769230769224\n",
      "P-value =  0.07941062599897565\n"
     ]
    }
   ],
   "source": [
    "### PERIOD MEASUREMENTS\n",
    "\n",
    "periods = np.array([2.72, 2.720, 2.722, 2.722])\n",
    "error_periods = np.array([0.001, 0.001, 0.002, 0.001])\n",
    "\n",
    "Weighted_mean_periods = np.sum(periods/error_periods**2) / np.sum(1/error_periods**2)\n",
    "Weighted_error_periods = np.sqrt(1 / np.sum(1/error_periods**2))\n",
    "\n",
    "chi2_periods = (periods[0] - Weighted_mean_periods)**2/error_periods[0]**2 + (periods[1] - Weighted_mean_periods)**2/error_periods[1]**2 + (periods[2] - Weighted_mean_periods)**2/error_periods[2]**2 + (periods[3] - Weighted_mean_periods)**2/error_periods[3]**2\n",
    "N_freedom = 2 - 1\n",
    "chi2_prob_periods = stats.chi2.sf(chi2_periods, N_freedom)\n",
    "print(\"weighted mean = \", Weighted_mean_periods, \"+-\", Weighted_error_periods)\n",
    "print('Chi2 = ', chi2_periods)\n",
    "print('P-value = ', chi2_prob_periods)"
   ]
  },
  {
   "cell_type": "code",
   "execution_count": 19,
   "metadata": {},
   "outputs": [
    {
     "name": "stdout",
     "output_type": "stream",
     "text": [
      "g_pendulum = 9.806555410499127 +- 0.004168237558368737\n"
     ]
    }
   ],
   "source": [
    "# Calculating the gravitational acceleration PENDELUM\n",
    "\n",
    "# Define symbolic variables\n",
    "L, T, dL, dT = symbols('L, T, sigma_L, sigma_T')\n",
    "\n",
    "# Create the expression arcsin(a/b)\n",
    "g_pendul = L * (2*np.pi/T)**2\n",
    "\n",
    "par_pendul = [L, T]\n",
    "sig_pendul = [dL, dT]\n",
    "\n",
    "sig_g_pendul = error_probagation(g_pendul, par_pendul, sig_pendul)\n",
    "f_g_pendul = lambdify((L, T), g_pendul)\n",
    "fsig_g_pendul = lambdify((L, T, dL, dT), sig_g_pendul)\n",
    "\n",
    "v_L = Weighted_mean\n",
    "v_dL = Weighted_error\n",
    "v_T = Weighted_mean_periods\n",
    "v_dT = Weighted_error_periods\n",
    "\n",
    "print(f\"g_pendulum = {f_g_pendul(v_L, v_T)} +- {fsig_g_pendul(v_L, v_T, v_dL, v_dT)}\")"
   ]
  },
  {
   "cell_type": "code",
   "execution_count": null,
   "metadata": {},
   "outputs": [],
   "source": []
  }
 ],
 "metadata": {
  "kernelspec": {
   "display_name": "base",
   "language": "python",
   "name": "python3"
  },
  "language_info": {
   "codemirror_mode": {
    "name": "ipython",
    "version": 3
   },
   "file_extension": ".py",
   "mimetype": "text/x-python",
   "name": "python",
   "nbconvert_exporter": "python",
   "pygments_lexer": "ipython3",
   "version": "3.9.6"
  }
 },
 "nbformat": 4,
 "nbformat_minor": 2
}
